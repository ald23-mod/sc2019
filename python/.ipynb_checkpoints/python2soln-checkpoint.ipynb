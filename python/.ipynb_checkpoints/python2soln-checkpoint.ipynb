{
 "cells": [
  {
   "cell_type": "markdown",
   "metadata": {},
   "source": [
    "## Exercise 2: practice with loops\n",
    "***\n"
   ]
  },
  {
   "cell_type": "markdown",
   "metadata": {},
   "source": [
    "1) Write a while loop which stores the first $n$ odd integers in a list, $L$. You will first need to initialize an empty list, $L=[~]$ and set the value of $n$. You may also want to initialize a counter, $count=0$"
   ]
  },
  {
   "cell_type": "code",
   "execution_count": 1,
   "metadata": {},
   "outputs": [
    {
     "name": "stdout",
     "output_type": "stream",
     "text": [
      "[1, 3, 5, 7, 9, 11, 13, 15]\n"
     ]
    }
   ],
   "source": [
    "L = []\n",
    "n = 8\n",
    "count=0\n",
    "while count < n:\n",
    "    L = L + [2*count+1]\n",
    "    count = count + 1\n",
    "print(L)\n"
   ]
  },
  {
   "cell_type": "markdown",
   "metadata": {},
   "source": [
    "2) Now add an if-else block around the while loop which checks if n is positive. If n is not positive, print an error message."
   ]
  },
  {
   "cell_type": "code",
   "execution_count": 2,
   "metadata": {},
   "outputs": [
    {
     "name": "stdout",
     "output_type": "stream",
     "text": [
      "[1, 3, 5, 7, 9, 11, 13, 15]\n"
     ]
    }
   ],
   "source": [
    "L = []\n",
    "n = 8\n",
    "count=0\n",
    "if n>0:\n",
    "    while count < n:\n",
    "        L = L + [2*count+1]\n",
    "        count = count + 1\n",
    "    print(L)\n",
    "else:\n",
    "    print(\"n must be positive\")\n"
   ]
  },
  {
   "cell_type": "markdown",
   "metadata": {},
   "source": [
    "3) Write a for loop which computes the sum, $S$, of the elements in $L$. You should first initialize the sum, $S=0.0$"
   ]
  },
  {
   "cell_type": "code",
   "execution_count": 6,
   "metadata": {},
   "outputs": [
    {
     "name": "stdout",
     "output_type": "stream",
     "text": [
      "i=1,sum= 1.0\n",
      "i=3,sum= 4.0\n",
      "i=5,sum= 9.0\n",
      "i=7,sum=16.0\n",
      "i=9,sum=25.0\n",
      "i=11,sum=36.0\n",
      "i=13,sum=49.0\n",
      "i=15,sum=64.0\n",
      "sum= 64.0\n"
     ]
    }
   ],
   "source": [
    "S = 0.0\n",
    "for i in L:\n",
    "    S = S + i\n",
    "    print(\"i=%d,sum=%4.1f\" %(i,S))\n",
    "print(\"sum=\",S)"
   ]
  }
 ],
 "metadata": {
  "kernelspec": {
   "display_name": "Python 3",
   "language": "python",
   "name": "python3"
  },
  "language_info": {
   "codemirror_mode": {
    "name": "ipython",
    "version": 3
   },
   "file_extension": ".py",
   "mimetype": "text/x-python",
   "name": "python",
   "nbconvert_exporter": "python",
   "pygments_lexer": "ipython3",
   "version": "3.6.2"
  }
 },
 "nbformat": 4,
 "nbformat_minor": 1
}
