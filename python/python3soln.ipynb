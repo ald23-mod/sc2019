{
 "cells": [
  {
   "cell_type": "markdown",
   "metadata": {},
   "source": [
    "## M3C 2017 Python 3"
   ]
  },
  {
   "cell_type": "markdown",
   "metadata": {},
   "source": [
    "### Getting started with numpy\n",
    "***\n",
    "<img src=\"http://cmse.bitbucket.io/python/figures/numpy_indexing.png\">"
   ]
  },
  {
   "cell_type": "markdown",
   "metadata": {},
   "source": [
    "1) Create a matrix, $M$ corresponding to the picture above:"
   ]
  },
  {
   "cell_type": "code",
   "execution_count": 3,
   "metadata": {},
   "outputs": [
    {
     "name": "stdout",
     "output_type": "stream",
     "text": [
      "[[  0.   1.   2.   3.   4.   5.]\n",
      " [ 10.  11.  12.  13.  14.  15.]\n",
      " [ 20.  21.  22.  23.  24.  25.]\n",
      " [ 30.  31.  32.  33.  34.  35.]\n",
      " [ 40.  41.  42.  43.  44.  45.]\n",
      " [ 50.  51.  52.  53.  54.  55.]]\n"
     ]
    }
   ],
   "source": [
    "import numpy as np\n",
    "M = np.empty((6,6))\n",
    "row = np.arange(0,6)\n",
    "for i in range(6):\n",
    "    M[i,:] = row+10*i\n",
    "print(M)\n"
   ]
  },
  {
   "cell_type": "markdown",
   "metadata": {},
   "source": [
    "2) Create arrays or matrices corresponding to the elements in M enclosed in a) red, b) orange, c) cyan, and d) green:"
   ]
  },
  {
   "cell_type": "code",
   "execution_count": 4,
   "metadata": {},
   "outputs": [
    {
     "name": "stdout",
     "output_type": "stream",
     "text": [
      "[  2.  12.  22.  32.  42.  52.]\n"
     ]
    }
   ],
   "source": [
    "red = M[:,2]\n",
    "print(red)"
   ]
  },
  {
   "cell_type": "code",
   "execution_count": 5,
   "metadata": {},
   "outputs": [
    {
     "name": "stdout",
     "output_type": "stream",
     "text": [
      "[ 3.  4.]\n"
     ]
    }
   ],
   "source": [
    "orange = M[0,3:5]\n",
    "print(orange)"
   ]
  },
  {
   "cell_type": "code",
   "execution_count": 6,
   "metadata": {},
   "outputs": [
    {
     "name": "stdout",
     "output_type": "stream",
     "text": [
      "[[ 44.  45.]\n",
      " [ 54.  55.]]\n"
     ]
    }
   ],
   "source": [
    "cyan = M[4:,4:]\n",
    "print(cyan)"
   ]
  },
  {
   "cell_type": "code",
   "execution_count": 7,
   "metadata": {},
   "outputs": [
    {
     "name": "stdout",
     "output_type": "stream",
     "text": [
      "[[ 20.  22.  24.]\n",
      " [ 40.  42.  44.]]\n"
     ]
    }
   ],
   "source": [
    "green = M[2::2,::2]\n",
    "print(green)"
   ]
  },
  {
   "cell_type": "markdown",
   "metadata": {},
   "source": [
    "3) Verify that $(M+I)(M+I)^{-1} = I$"
   ]
  },
  {
   "cell_type": "code",
   "execution_count": 11,
   "metadata": {},
   "outputs": [
    {
     "name": "stdout",
     "output_type": "stream",
     "text": [
      "7.1054273576e-15\n"
     ]
    }
   ],
   "source": [
    "I = np.eye(6)\n",
    "check = np.dot(M+I,np.linalg.inv(M+np.eye(6))) - np.eye(6)\n",
    "print(np.max(np.abs(check)))"
   ]
  }
 ],
 "metadata": {
  "kernelspec": {
   "display_name": "Python 3",
   "language": "python",
   "name": "python3"
  },
  "language_info": {
   "codemirror_mode": {
    "name": "ipython",
    "version": 3
   },
   "file_extension": ".py",
   "mimetype": "text/x-python",
   "name": "python",
   "nbconvert_exporter": "python",
   "pygments_lexer": "ipython3",
   "version": "3.6.2"
  }
 },
 "nbformat": 4,
 "nbformat_minor": 1
}
